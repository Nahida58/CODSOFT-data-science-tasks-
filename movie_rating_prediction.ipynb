{
 "cells": [
  {
   "cell_type": "code",
   "execution_count": 1,
   "id": "d68827f8-eccc-4d57-8bbe-0a9915021b5f",
   "metadata": {},
   "outputs": [],
   "source": [
    "import pandas as pd\n",
    "import numpy as np\n",
    "import matplotlib.pyplot as plt\n",
    "import seaborn as sns"
   ]
  },
  {
   "cell_type": "code",
   "execution_count": 2,
   "id": "faab6a37-7498-47c8-877d-0ea500885c82",
   "metadata": {},
   "outputs": [],
   "source": [
    "df= pd.read_csv('/home/maryam/Downloads/IMDb Movies India.csv',encoding='latin1')"
   ]
  },
  {
   "cell_type": "code",
   "execution_count": 3,
   "id": "2c1d03f2-784e-403f-b1f1-1d3d35055d73",
   "metadata": {},
   "outputs": [
    {
     "data": {
      "text/html": [
       "<div>\n",
       "<style scoped>\n",
       "    .dataframe tbody tr th:only-of-type {\n",
       "        vertical-align: middle;\n",
       "    }\n",
       "\n",
       "    .dataframe tbody tr th {\n",
       "        vertical-align: top;\n",
       "    }\n",
       "\n",
       "    .dataframe thead th {\n",
       "        text-align: right;\n",
       "    }\n",
       "</style>\n",
       "<table border=\"1\" class=\"dataframe\">\n",
       "  <thead>\n",
       "    <tr style=\"text-align: right;\">\n",
       "      <th></th>\n",
       "      <th>Name</th>\n",
       "      <th>Year</th>\n",
       "      <th>Duration</th>\n",
       "      <th>Genre</th>\n",
       "      <th>Rating</th>\n",
       "      <th>Votes</th>\n",
       "      <th>Director</th>\n",
       "      <th>Actor 1</th>\n",
       "      <th>Actor 2</th>\n",
       "      <th>Actor 3</th>\n",
       "    </tr>\n",
       "  </thead>\n",
       "  <tbody>\n",
       "    <tr>\n",
       "      <th>0</th>\n",
       "      <td></td>\n",
       "      <td>NaN</td>\n",
       "      <td>NaN</td>\n",
       "      <td>Drama</td>\n",
       "      <td>NaN</td>\n",
       "      <td>NaN</td>\n",
       "      <td>J.S. Randhawa</td>\n",
       "      <td>Manmauji</td>\n",
       "      <td>Birbal</td>\n",
       "      <td>Rajendra Bhatia</td>\n",
       "    </tr>\n",
       "    <tr>\n",
       "      <th>1</th>\n",
       "      <td>#Gadhvi (He thought he was Gandhi)</td>\n",
       "      <td>(2019)</td>\n",
       "      <td>109 min</td>\n",
       "      <td>Drama</td>\n",
       "      <td>7.0</td>\n",
       "      <td>8</td>\n",
       "      <td>Gaurav Bakshi</td>\n",
       "      <td>Rasika Dugal</td>\n",
       "      <td>Vivek Ghamande</td>\n",
       "      <td>Arvind Jangid</td>\n",
       "    </tr>\n",
       "    <tr>\n",
       "      <th>2</th>\n",
       "      <td>#Homecoming</td>\n",
       "      <td>(2021)</td>\n",
       "      <td>90 min</td>\n",
       "      <td>Drama, Musical</td>\n",
       "      <td>NaN</td>\n",
       "      <td>NaN</td>\n",
       "      <td>Soumyajit Majumdar</td>\n",
       "      <td>Sayani Gupta</td>\n",
       "      <td>Plabita Borthakur</td>\n",
       "      <td>Roy Angana</td>\n",
       "    </tr>\n",
       "    <tr>\n",
       "      <th>3</th>\n",
       "      <td>#Yaaram</td>\n",
       "      <td>(2019)</td>\n",
       "      <td>110 min</td>\n",
       "      <td>Comedy, Romance</td>\n",
       "      <td>4.4</td>\n",
       "      <td>35</td>\n",
       "      <td>Ovais Khan</td>\n",
       "      <td>Prateik</td>\n",
       "      <td>Ishita Raj</td>\n",
       "      <td>Siddhant Kapoor</td>\n",
       "    </tr>\n",
       "    <tr>\n",
       "      <th>4</th>\n",
       "      <td>...And Once Again</td>\n",
       "      <td>(2010)</td>\n",
       "      <td>105 min</td>\n",
       "      <td>Drama</td>\n",
       "      <td>NaN</td>\n",
       "      <td>NaN</td>\n",
       "      <td>Amol Palekar</td>\n",
       "      <td>Rajat Kapoor</td>\n",
       "      <td>Rituparna Sengupta</td>\n",
       "      <td>Antara Mali</td>\n",
       "    </tr>\n",
       "  </tbody>\n",
       "</table>\n",
       "</div>"
      ],
      "text/plain": [
       "                                 Name    Year Duration            Genre  \\\n",
       "0                                         NaN      NaN            Drama   \n",
       "1  #Gadhvi (He thought he was Gandhi)  (2019)  109 min            Drama   \n",
       "2                         #Homecoming  (2021)   90 min   Drama, Musical   \n",
       "3                             #Yaaram  (2019)  110 min  Comedy, Romance   \n",
       "4                   ...And Once Again  (2010)  105 min            Drama   \n",
       "\n",
       "   Rating Votes            Director       Actor 1             Actor 2  \\\n",
       "0     NaN   NaN       J.S. Randhawa      Manmauji              Birbal   \n",
       "1     7.0     8       Gaurav Bakshi  Rasika Dugal      Vivek Ghamande   \n",
       "2     NaN   NaN  Soumyajit Majumdar  Sayani Gupta   Plabita Borthakur   \n",
       "3     4.4    35          Ovais Khan       Prateik          Ishita Raj   \n",
       "4     NaN   NaN        Amol Palekar  Rajat Kapoor  Rituparna Sengupta   \n",
       "\n",
       "           Actor 3  \n",
       "0  Rajendra Bhatia  \n",
       "1    Arvind Jangid  \n",
       "2       Roy Angana  \n",
       "3  Siddhant Kapoor  \n",
       "4      Antara Mali  "
      ]
     },
     "execution_count": 3,
     "metadata": {},
     "output_type": "execute_result"
    }
   ],
   "source": [
    "df.head()"
   ]
  },
  {
   "cell_type": "code",
   "execution_count": 4,
   "id": "80c22d5d-dbba-4fd3-a1f3-e708fddee811",
   "metadata": {},
   "outputs": [
    {
     "data": {
      "text/html": [
       "<div>\n",
       "<style scoped>\n",
       "    .dataframe tbody tr th:only-of-type {\n",
       "        vertical-align: middle;\n",
       "    }\n",
       "\n",
       "    .dataframe tbody tr th {\n",
       "        vertical-align: top;\n",
       "    }\n",
       "\n",
       "    .dataframe thead th {\n",
       "        text-align: right;\n",
       "    }\n",
       "</style>\n",
       "<table border=\"1\" class=\"dataframe\">\n",
       "  <thead>\n",
       "    <tr style=\"text-align: right;\">\n",
       "      <th></th>\n",
       "      <th>Rating</th>\n",
       "    </tr>\n",
       "  </thead>\n",
       "  <tbody>\n",
       "    <tr>\n",
       "      <th>count</th>\n",
       "      <td>7919.000000</td>\n",
       "    </tr>\n",
       "    <tr>\n",
       "      <th>mean</th>\n",
       "      <td>5.841621</td>\n",
       "    </tr>\n",
       "    <tr>\n",
       "      <th>std</th>\n",
       "      <td>1.381777</td>\n",
       "    </tr>\n",
       "    <tr>\n",
       "      <th>min</th>\n",
       "      <td>1.100000</td>\n",
       "    </tr>\n",
       "    <tr>\n",
       "      <th>25%</th>\n",
       "      <td>4.900000</td>\n",
       "    </tr>\n",
       "    <tr>\n",
       "      <th>50%</th>\n",
       "      <td>6.000000</td>\n",
       "    </tr>\n",
       "    <tr>\n",
       "      <th>75%</th>\n",
       "      <td>6.800000</td>\n",
       "    </tr>\n",
       "    <tr>\n",
       "      <th>max</th>\n",
       "      <td>10.000000</td>\n",
       "    </tr>\n",
       "  </tbody>\n",
       "</table>\n",
       "</div>"
      ],
      "text/plain": [
       "            Rating\n",
       "count  7919.000000\n",
       "mean      5.841621\n",
       "std       1.381777\n",
       "min       1.100000\n",
       "25%       4.900000\n",
       "50%       6.000000\n",
       "75%       6.800000\n",
       "max      10.000000"
      ]
     },
     "execution_count": 4,
     "metadata": {},
     "output_type": "execute_result"
    }
   ],
   "source": [
    "df.describe()"
   ]
  },
  {
   "cell_type": "code",
   "execution_count": 5,
   "id": "445c0f32-e4e7-48da-8faa-8b00a52cd815",
   "metadata": {},
   "outputs": [
    {
     "name": "stdout",
     "output_type": "stream",
     "text": [
      "<class 'pandas.core.frame.DataFrame'>\n",
      "RangeIndex: 15509 entries, 0 to 15508\n",
      "Data columns (total 10 columns):\n",
      " #   Column    Non-Null Count  Dtype  \n",
      "---  ------    --------------  -----  \n",
      " 0   Name      15509 non-null  object \n",
      " 1   Year      14981 non-null  object \n",
      " 2   Duration  7240 non-null   object \n",
      " 3   Genre     13632 non-null  object \n",
      " 4   Rating    7919 non-null   float64\n",
      " 5   Votes     7920 non-null   object \n",
      " 6   Director  14984 non-null  object \n",
      " 7   Actor 1   13892 non-null  object \n",
      " 8   Actor 2   13125 non-null  object \n",
      " 9   Actor 3   12365 non-null  object \n",
      "dtypes: float64(1), object(9)\n",
      "memory usage: 1.2+ MB\n"
     ]
    }
   ],
   "source": [
    "df.info()"
   ]
  },
  {
   "cell_type": "code",
   "execution_count": 7,
   "id": "5f03b325-e9dc-48e3-b945-2dd2950e368e",
   "metadata": {},
   "outputs": [
    {
     "data": {
      "text/plain": [
       "(15509, 10)"
      ]
     },
     "execution_count": 7,
     "metadata": {},
     "output_type": "execute_result"
    }
   ],
   "source": [
    "df.shape"
   ]
  },
  {
   "cell_type": "code",
   "execution_count": 8,
   "id": "77c7730d-5852-4fb8-9377-ce5b3a8db30c",
   "metadata": {},
   "outputs": [
    {
     "data": {
      "text/plain": [
       "array([nan, '(2019)', '(2021)', '(2010)', '(1997)', '(2005)', '(2008)',\n",
       "       '(2012)', '(2014)', '(2004)', '(2016)', '(1991)', '(1990)',\n",
       "       '(2018)', '(1987)', '(1948)', '(1958)', '(2017)', '(2020)',\n",
       "       '(2009)', '(2002)', '(1993)', '(1946)', '(1994)', '(2007)',\n",
       "       '(2013)', '(2003)', '(1998)', '(1979)', '(1951)', '(1956)',\n",
       "       '(1974)', '(2015)', '(2006)', '(1981)', '(1985)', '(2011)',\n",
       "       '(2001)', '(1967)', '(1988)', '(1995)', '(1959)', '(1996)',\n",
       "       '(1970)', '(1976)', '(2000)', '(1999)', '(1973)', '(1968)',\n",
       "       '(1943)', '(1953)', '(1986)', '(1983)', '(1989)', '(1982)',\n",
       "       '(1977)', '(1957)', '(1950)', '(1992)', '(1969)', '(1975)',\n",
       "       '(1947)', '(1972)', '(1971)', '(1935)', '(1978)', '(1960)',\n",
       "       '(1944)', '(1963)', '(1940)', '(1984)', '(1934)', '(1955)',\n",
       "       '(1936)', '(1980)', '(1966)', '(1949)', '(1962)', '(1964)',\n",
       "       '(1952)', '(1933)', '(1942)', '(1939)', '(1954)', '(1945)',\n",
       "       '(1961)', '(1965)', '(1938)', '(1941)', '(1931)', '(1937)',\n",
       "       '(2022)', '(1932)', '(1923)', '(1915)', '(1928)', '(1922)',\n",
       "       '(1917)', '(1913)', '(1930)', '(1926)', '(1914)', '(1924)'],\n",
       "      dtype=object)"
      ]
     },
     "execution_count": 8,
     "metadata": {},
     "output_type": "execute_result"
    }
   ],
   "source": [
    "df.Year.unique()"
   ]
  },
  {
   "cell_type": "code",
   "execution_count": 9,
   "id": "2add4f18-c9a0-4f0d-bcec-8102546b2a97",
   "metadata": {},
   "outputs": [
    {
     "data": {
      "text/plain": [
       "array([ nan,  7. ,  4.4,  4.7,  7.4,  5.6,  4. ,  6.2,  5.9,  6.5,  5.7,\n",
       "        6.3,  7.2,  6.6,  7.3,  7.1,  6.9,  3.5,  5. ,  4.5,  6.4,  4.1,\n",
       "        4.8,  8.1,  5.5,  6.8,  6.1,  7.7,  5.1,  7.6,  3.1,  3.3,  7.8,\n",
       "        8.4,  5.2,  4.3,  5.8,  4.6,  7.5,  6.7,  3.6,  3.9,  5.4,  4.2,\n",
       "        5.3,  3.4,  3. ,  8. ,  6. ,  3.8,  7.9,  2.7,  4.9,  2.4,  3.7,\n",
       "        3.2,  2.5,  2.8,  2.6,  2.9,  8.2,  8.7,  8.3,  9.3,  8.8,  2.1,\n",
       "        2.3,  8.5,  8.6,  9. ,  9.6,  1.7,  9.1,  2. ,  1.4,  8.9,  1.9,\n",
       "        9.4,  9.7,  1.8,  9.2,  1.6, 10. ,  2.2,  1.1])"
      ]
     },
     "execution_count": 9,
     "metadata": {},
     "output_type": "execute_result"
    }
   ],
   "source": [
    "df.Rating.unique()"
   ]
  },
  {
   "cell_type": "code",
   "execution_count": 10,
   "id": "7036c18f-7a7b-4288-acb8-b9b1c10a6a41",
   "metadata": {},
   "outputs": [
    {
     "data": {
      "text/plain": [
       "Name        False\n",
       "Year         True\n",
       "Duration     True\n",
       "Genre        True\n",
       "Rating       True\n",
       "Votes        True\n",
       "Director     True\n",
       "Actor 1      True\n",
       "Actor 2      True\n",
       "Actor 3      True\n",
       "dtype: bool"
      ]
     },
     "execution_count": 10,
     "metadata": {},
     "output_type": "execute_result"
    }
   ],
   "source": [
    "df.isnull().any()"
   ]
  },
  {
   "cell_type": "code",
   "execution_count": 11,
   "id": "4832a6b2-c177-4d37-8418-1da3b76c390c",
   "metadata": {},
   "outputs": [
    {
     "data": {
      "text/plain": [
       "6"
      ]
     },
     "execution_count": 11,
     "metadata": {},
     "output_type": "execute_result"
    }
   ],
   "source": [
    "df.duplicated().sum()"
   ]
  },
  {
   "cell_type": "code",
   "execution_count": 12,
   "id": "66e5fe05-de16-42b4-9bef-c885b63d74f4",
   "metadata": {},
   "outputs": [
    {
     "name": "stdout",
     "output_type": "stream",
     "text": [
      "INFO: \n",
      "\n",
      "<class 'pandas.core.frame.DataFrame'>\n",
      "RangeIndex: 15509 entries, 0 to 15508\n",
      "Data columns (total 10 columns):\n",
      " #   Column    Non-Null Count  Dtype  \n",
      "---  ------    --------------  -----  \n",
      " 0   Name      15509 non-null  object \n",
      " 1   Year      14981 non-null  object \n",
      " 2   Duration  7240 non-null   object \n",
      " 3   Genre     13632 non-null  object \n",
      " 4   Rating    7919 non-null   float64\n",
      " 5   Votes     7920 non-null   object \n",
      " 6   Director  14984 non-null  object \n",
      " 7   Actor 1   13892 non-null  object \n",
      " 8   Actor 2   13125 non-null  object \n",
      " 9   Actor 3   12365 non-null  object \n",
      "dtypes: float64(1), object(9)\n",
      "memory usage: 1.2+ MB\n",
      "None \n",
      "\n",
      "\n",
      "\n",
      "\n",
      "\n",
      "summary of the dataframe: \n",
      " <bound method NDFrame.describe of                                      Name    Year Duration            Genre  \\\n",
      "0                                             NaN      NaN            Drama   \n",
      "1      #Gadhvi (He thought he was Gandhi)  (2019)  109 min            Drama   \n",
      "2                             #Homecoming  (2021)   90 min   Drama, Musical   \n",
      "3                                 #Yaaram  (2019)  110 min  Comedy, Romance   \n",
      "4                       ...And Once Again  (2010)  105 min            Drama   \n",
      "...                                   ...     ...      ...              ...   \n",
      "15504                 Zulm Ko Jala Doonga  (1988)      NaN           Action   \n",
      "15505                               Zulmi  (1999)  129 min    Action, Drama   \n",
      "15506                           Zulmi Raj  (2005)      NaN           Action   \n",
      "15507                       Zulmi Shikari  (1988)      NaN           Action   \n",
      "15508                        Zulm-O-Sitam  (1998)  130 min    Action, Drama   \n",
      "\n",
      "       Rating Votes            Director           Actor 1             Actor 2  \\\n",
      "0         NaN   NaN       J.S. Randhawa          Manmauji              Birbal   \n",
      "1         7.0     8       Gaurav Bakshi      Rasika Dugal      Vivek Ghamande   \n",
      "2         NaN   NaN  Soumyajit Majumdar      Sayani Gupta   Plabita Borthakur   \n",
      "3         4.4    35          Ovais Khan           Prateik          Ishita Raj   \n",
      "4         NaN   NaN        Amol Palekar      Rajat Kapoor  Rituparna Sengupta   \n",
      "...       ...   ...                 ...               ...                 ...   \n",
      "15504     4.6    11       Mahendra Shah  Naseeruddin Shah       Sumeet Saigal   \n",
      "15505     4.5   655          Kuku Kohli      Akshay Kumar      Twinkle Khanna   \n",
      "15506     NaN   NaN          Kiran Thej   Sangeeta Tiwari                 NaN   \n",
      "15507     NaN   NaN                 NaN               NaN                 NaN   \n",
      "15508     6.2    20        K.C. Bokadia        Dharmendra          Jaya Prada   \n",
      "\n",
      "               Actor 3  \n",
      "0      Rajendra Bhatia  \n",
      "1        Arvind Jangid  \n",
      "2           Roy Angana  \n",
      "3      Siddhant Kapoor  \n",
      "4          Antara Mali  \n",
      "...                ...  \n",
      "15504    Suparna Anand  \n",
      "15505      Aruna Irani  \n",
      "15506              NaN  \n",
      "15507              NaN  \n",
      "15508      Arjun Sarja  \n",
      "\n",
      "[15509 rows x 10 columns]> \n",
      "\n",
      "\n",
      "\n",
      "\n",
      "\n",
      "nunique: \n",
      " 485 \n",
      "\n",
      "\n",
      "\n",
      "\n",
      "\n",
      "unique: \n",
      " [nan '(2019)' '(2021)' '(2010)' '(1997)' '(2005)' '(2008)' '(2012)'\n",
      " '(2014)' '(2004)' '(2016)' '(1991)' '(1990)' '(2018)' '(1987)' '(1948)'\n",
      " '(1958)' '(2017)' '(2020)' '(2009)' '(2002)' '(1993)' '(1946)' '(1994)'\n",
      " '(2007)' '(2013)' '(2003)' '(1998)' '(1979)' '(1951)' '(1956)' '(1974)'\n",
      " '(2015)' '(2006)' '(1981)' '(1985)' '(2011)' '(2001)' '(1967)' '(1988)'\n",
      " '(1995)' '(1959)' '(1996)' '(1970)' '(1976)' '(2000)' '(1999)' '(1973)'\n",
      " '(1968)' '(1943)' '(1953)' '(1986)' '(1983)' '(1989)' '(1982)' '(1977)'\n",
      " '(1957)' '(1950)' '(1992)' '(1969)' '(1975)' '(1947)' '(1972)' '(1971)'\n",
      " '(1935)' '(1978)' '(1960)' '(1944)' '(1963)' '(1940)' '(1984)' '(1934)'\n",
      " '(1955)' '(1936)' '(1980)' '(1966)' '(1949)' '(1962)' '(1964)' '(1952)'\n",
      " '(1933)' '(1942)' '(1939)' '(1954)' '(1945)' '(1961)' '(1965)' '(1938)'\n",
      " '(1941)' '(1931)' '(1937)' '(2022)' '(1932)' '(1923)' '(1915)' '(1928)'\n",
      " '(1922)' '(1917)' '(1913)' '(1930)' '(1926)' '(1914)' '(1924)'] \n",
      "\n",
      "\n",
      "\n",
      "\n",
      "\n",
      "Rating.unique: \n",
      " [ nan  7.   4.4  4.7  7.4  5.6  4.   6.2  5.9  6.5  5.7  6.3  7.2  6.6\n",
      "  7.3  7.1  6.9  3.5  5.   4.5  6.4  4.1  4.8  8.1  5.5  6.8  6.1  7.7\n",
      "  5.1  7.6  3.1  3.3  7.8  8.4  5.2  4.3  5.8  4.6  7.5  6.7  3.6  3.9\n",
      "  5.4  4.2  5.3  3.4  3.   8.   6.   3.8  7.9  2.7  4.9  2.4  3.7  3.2\n",
      "  2.5  2.8  2.6  2.9  8.2  8.7  8.3  9.3  8.8  2.1  2.3  8.5  8.6  9.\n",
      "  9.6  1.7  9.1  2.   1.4  8.9  1.9  9.4  9.7  1.8  9.2  1.6 10.   2.2\n",
      "  1.1] \n",
      "\n",
      "\n",
      "\n",
      "\n",
      "\n",
      "unique: \n",
      " [nan '109 min' '90 min' '110 min' '105 min' '147 min' '142 min' '59 min'\n",
      " '82 min' '116 min' '96 min' '120 min' '161 min' '166 min' '102 min'\n",
      " '87 min' '132 min' '66 min' '146 min' '112 min' '168 min' '158 min'\n",
      " '126 min' '94 min' '138 min' '124 min' '144 min' '157 min' '136 min'\n",
      " '107 min' '113 min' '80 min' '122 min' '149 min' '148 min' '130 min'\n",
      " '121 min' '188 min' '115 min' '103 min' '114 min' '170 min' '100 min'\n",
      " '99 min' '140 min' '128 min' '93 min' '125 min' '145 min' '75 min'\n",
      " '111 min' '134 min' '85 min' '104 min' '92 min' '137 min' '127 min'\n",
      " '150 min' '119 min' '135 min' '86 min' '76 min' '70 min' '72 min'\n",
      " '151 min' '95 min' '52 min' '89 min' '143 min' '177 min' '117 min'\n",
      " '123 min' '154 min' '88 min' '175 min' '153 min' '78 min' '139 min'\n",
      " '133 min' '101 min' '180 min' '60 min' '46 min' '164 min' '162 min'\n",
      " '171 min' '160 min' '152 min' '62 min' '163 min' '165 min' '141 min'\n",
      " '210 min' '129 min' '156 min' '240 min' '172 min' '155 min' '118 min'\n",
      " '167 min' '106 min' '193 min' '57 min' '108 min' '45 min' '195 min'\n",
      " '174 min' '81 min' '178 min' '58 min' '184 min' '97 min' '98 min'\n",
      " '131 min' '176 min' '169 min' '77 min' '91 min' '84 min' '173 min'\n",
      " '74 min' '67 min' '181 min' '300 min' '79 min' '65 min' '48 min'\n",
      " '183 min' '159 min' '83 min' '68 min' '49 min' '201 min' '64 min'\n",
      " '186 min' '50 min' '69 min' '207 min' '55 min' '61 min' '185 min'\n",
      " '187 min' '216 min' '63 min' '54 min' '198 min' '51 min' '71 min'\n",
      " '73 min' '218 min' '191 min' '321 min' '199 min' '53 min' '56 min'\n",
      " '179 min' '47 min' '206 min' '190 min' '211 min' '247 min' '213 min'\n",
      " '223 min' '2 min' '189 min' '224 min' '202 min' '255 min' '197 min'\n",
      " '182 min' '214 min' '208 min' '21 min' '200 min' '192 min' '37 min'\n",
      " '261 min' '238 min' '204 min' '235 min' '298 min' '217 min' '250 min'] \n",
      "\n",
      "\n",
      "\n",
      "\n",
      "\n",
      "groupby(['Genre']': \n",
      "                               Name  Year  Duration  Rating  Votes  Director  \\\n",
      "Genre                                                                         \n",
      "Action                        1289  1265       262     417    417      1249   \n",
      "Action, Adventure               41    41        17      24     24        41   \n",
      "Action, Adventure, Biography     1     1         1       1      1         1   \n",
      "Action, Adventure, Comedy       42    41        37      40     40        42   \n",
      "Action, Adventure, Crime        19    19        11      16     16        19   \n",
      "...                            ...   ...       ...     ...    ...       ...   \n",
      "Thriller, Action                 2     2         1       1      1         2   \n",
      "Thriller, Musical, Mystery       1     1         1       1      1         1   \n",
      "Thriller, Mystery                3     3         2       3      3         3   \n",
      "Thriller, Mystery, Family        1     1         1       1      1         1   \n",
      "War                              8     5         4       3      3         8   \n",
      "\n",
      "                              Actor 1  Actor 2  Actor 3  \n",
      "Genre                                                    \n",
      "Action                           1207     1124     1005  \n",
      "Action, Adventure                  40       39       39  \n",
      "Action, Adventure, Biography        1        1        1  \n",
      "Action, Adventure, Comedy          42       42       42  \n",
      "Action, Adventure, Crime           19       19       19  \n",
      "...                               ...      ...      ...  \n",
      "Thriller, Action                    2        2        2  \n",
      "Thriller, Musical, Mystery          1        1        1  \n",
      "Thriller, Mystery                   3        3        3  \n",
      "Thriller, Mystery, Family           1        1        1  \n",
      "War                                 8        7        7  \n",
      "\n",
      "[485 rows x 9 columns] \n",
      "\n",
      "\n",
      "\n",
      "\n",
      "\n",
      "value_counts: \n",
      " Director\n",
      "Jayant Desai       58\n",
      "Kanti Shah         57\n",
      "Babubhai Mistry    50\n",
      "Mahesh Bhatt       48\n",
      "Master Bhagwan     47\n",
      "Dhirubhai Desai    46\n",
      "Name: count, dtype: int64 \n",
      "\n",
      "\n",
      "\n",
      "\n",
      "\n",
      "isnull().any(): \n",
      " Name        False\n",
      "Year         True\n",
      "Duration     True\n",
      "Genre        True\n",
      "Rating       True\n",
      "Votes        True\n",
      "Director     True\n",
      "Actor 1      True\n",
      "Actor 2      True\n",
      "Actor 3      True\n",
      "dtype: bool \n",
      "\n",
      "\n",
      "\n",
      "\n",
      "\n"
     ]
    }
   ],
   "source": [
    "#Data Exploration\n",
    "print('INFO:',\"\\n\")\n",
    "print(df.info(),\"\\n\\n\\n\\n\\n\")\n",
    "print('summary of the dataframe:',\"\\n\",df.describe,\"\\n\\n\\n\\n\\n\")\n",
    "print('nunique:',\"\\n\",df['Genre'].nunique(),\"\\n\\n\\n\\n\\n\")\n",
    "print('unique:',\"\\n\",df['Year'].unique(),\"\\n\\n\\n\\n\\n\")\n",
    "print('Rating.unique:',\"\\n\",df.Rating.unique(),\"\\n\\n\\n\\n\\n\")\n",
    "print('unique:',\"\\n\",df['Duration'].unique(),\"\\n\\n\\n\\n\\n\")\n",
    "print(\"groupby(['Genre']':\",\"\\n\",df.groupby(['Genre']).count(),\"\\n\\n\\n\\n\\n\")\n",
    "print(\"value_counts:\",\"\\n\",df[\"Director\"].value_counts().head(6),\"\\n\\n\\n\\n\\n\")\n",
    "print('isnull().any():',\"\\n\",df.isnull().any(),\"\\n\\n\\n\\n\\n\")"
   ]
  },
  {
   "cell_type": "code",
   "execution_count": 13,
   "id": "91aa476a-b3fb-41c9-b431-e09bd79d737d",
   "metadata": {},
   "outputs": [],
   "source": [
    "def TopTenPlot(column):\n",
    "    global df\n",
    "    df[column].value_counts().sort_values(ascending=False)[:10].plot(kind=\"bar\", figsize=(20,6), edgecolor=\"k\")\n",
    "    plt.xticks(rotation=0)\n",
    "    plt.title(\"Top Ten {}\".format(column))\n",
    "    plt.xlabel(column)\n",
    "    plt.ylabel(\"Count\")\n",
    "    plt.show()"
   ]
  },
  {
   "cell_type": "code",
   "execution_count": 19,
   "id": "951c8988-e02c-4ab1-911a-87ab506ca8e0",
   "metadata": {},
   "outputs": [],
   "source": [
    "def Scatter(x, y, c=None):\n",
    "    global df\n",
    "    plt.figure(figsize=(20,6))\n",
    "    plt.scatter(df[x], df[y], edgecolor=\"k\", c=c)\n",
    "    plt.xticks(rotation=0)\n",
    "    plt.title(\"Scatter plot X:{} / Y:{}\".format(x, y))\n",
    "    plt.xlabel(x)\n",
    "    plt.ylabel(y)\n",
    "    plt.show()   "
   ]
  },
  {
   "cell_type": "code",
   "execution_count": 20,
   "id": "cd8af412-8f52-4ffd-8728-e7b211f64861",
   "metadata": {},
   "outputs": [
    {
     "data": {
      "image/png": "[encoded data removed]",
      "text/plain": [
       "<Figure size 2000x600 with 1 Axes>"
      ]
     },
     "metadata": {},
     "output_type": "display_data"
    }
   ],
   "source": [
    "TopTenPlot(\"Director\")"
   ]
  },
  {
   "cell_type": "code",
   "execution_count": 21,
   "id": "7786fde4-2d93-4222-b6ea-32a080fb8989",
   "metadata": {},
   "outputs": [
    {
     "data": {
      "image/png": "[encoded data removed]",
      "text/plain": [
       "<Figure size 2000x600 with 1 Axes>"
      ]
     },
     "metadata": {},
     "output_type": "display_data"
    }
   ],
   "source": [
    "TopTenPlot(\"Actor 2\")"
   ]
  },
  {
   "cell_type": "code",
   "execution_count": 22,
   "id": "56af8a1f-1950-4181-ba1f-3be1a27958e9",
   "metadata": {},
   "outputs": [
    {
     "data": {
      "image/png": "[encoded data removed]",
      "text/plain": [
       "<Figure size 2000x600 with 1 Axes>"
      ]
     },
     "metadata": {},
     "output_type": "display_data"
    }
   ],
   "source": [
    "TopTenPlot(\"Actor 3\")"
   ]
  },
  {
   "cell_type": "code",
   "execution_count": 23,
   "id": "33d470b3-b8f4-4c6c-8d1b-2c7f4527968c",
   "metadata": {},
   "outputs": [
    {
     "data": {
      "image/png": "[encoded data removed]",
      "text/plain": [
       "<Figure size 250x250 with 2 Axes>"
      ]
     },
     "metadata": {},
     "output_type": "display_data"
    }
   ],
   "source": [
    "sns.pairplot(df)\n",
    "numeric_columns = df.select_dtypes(include=['float64', 'int64']).columns\n",
    "correlation_matrix = df[numeric_columns].corr(method='spearman')"
   ]
  },
  {
   "cell_type": "code",
   "execution_count": null,
   "id": "e1478675-ac18-4bae-bb1f-bbd56c0d4a51",
   "metadata": {},
   "outputs": [],
   "source": []
  }
 ],
 "metadata": {
  "kernelspec": {
   "display_name": "Python 3 (ipykernel)",
   "language": "python",
   "name": "python3"
  },
  "language_info": {
   "codemirror_mode": {
    "name": "ipython",
    "version": 3
   },
   "file_extension": ".py",
   "mimetype": "text/x-python",
   "name": "python",
   "nbconvert_exporter": "python",
   "pygments_lexer": "ipython3",
   "version": "3.10.12"
  }
 },
 "nbformat": 4,
 "nbformat_minor": 5
}
